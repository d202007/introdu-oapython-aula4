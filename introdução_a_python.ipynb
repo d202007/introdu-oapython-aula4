{
  "nbformat": 4,
  "nbformat_minor": 0,
  "metadata": {
    "colab": {
      "provenance": [],
      "authorship_tag": "ABX9TyO/vAJaiB3XBfhZul+Y1ZtA",
      "include_colab_link": true
    },
    "kernelspec": {
      "name": "python3",
      "display_name": "Python 3"
    },
    "language_info": {
      "name": "python"
    }
  },
  "cells": [
    {
      "cell_type": "markdown",
      "metadata": {
        "id": "view-in-github",
        "colab_type": "text"
      },
      "source": [
        "<a href=\"https://colab.research.google.com/github/d202007/introdu-oapython-aula4/blob/main/introdu%C3%A7%C3%A3o_a_python.ipynb\" target=\"_parent\"><img src=\"https://colab.research.google.com/assets/colab-badge.svg\" alt=\"Open In Colab\"/></a>"
      ]
    },
    {
      "cell_type": "markdown",
      "source": [
        "## aula 1"
      ],
      "metadata": {
        "id": "MraEWNLFK6Ep"
      }
    },
    {
      "cell_type": "code",
      "execution_count": null,
      "metadata": {
        "colab": {
          "base_uri": "https://localhost:8080/"
        },
        "id": "x2X8MAk_HDYQ",
        "outputId": "7362df81-47e9-4f0e-954e-fe128a29bdd2"
      },
      "outputs": [
        {
          "output_type": "stream",
          "name": "stdout",
          "text": [
            "I Competição de Programação da Start\n"
          ]
        }
      ],
      "source": [
        "print(\"I Competição de Programação da Start\")"
      ]
    },
    {
      "cell_type": "code",
      "source": [
        "ano = \"II\"\n",
        "\n",
        "print(ano, \"Competição de Programação da Start\")"
      ],
      "metadata": {
        "colab": {
          "base_uri": "https://localhost:8080/"
        },
        "id": "lLqPoWt_KtYB",
        "outputId": "13b35b23-11a0-46c2-9154-d9e6ef812ab3"
      },
      "execution_count": null,
      "outputs": [
        {
          "output_type": "stream",
          "name": "stdout",
          "text": [
            "II Competição de Programação da Start\n"
          ]
        }
      ]
    },
    {
      "cell_type": "code",
      "source": [
        "print(f\"{ano} Competição de Programação da Start\")"
      ],
      "metadata": {
        "colab": {
          "base_uri": "https://localhost:8080/"
        },
        "id": "V1Vjx0QuKxKI",
        "outputId": "2db433c2-2f97-4f56-9224-27fbe7821f9e"
      },
      "execution_count": null,
      "outputs": [
        {
          "output_type": "stream",
          "name": "stdout",
          "text": [
            "II Competição de Programação da Start\n"
          ]
        }
      ]
    },
    {
      "cell_type": "markdown",
      "source": [
        "## aula 2\n"
      ],
      "metadata": {
        "id": "zRNC4xyQLIn-"
      }
    },
    {
      "cell_type": "markdown",
      "source": [
        "Uma escola está promovendo uma campanha de incentivo à leitura, em que cada estudante recebe pontos ao concluir livros. Esses pontos podem ser trocados por diferentes prêmios da escola, e as categorias de livros têm valores diferntes de pontos:\n",
        "\n",
        "Ficção: 8 pontos;\n",
        "Não ficção: 8 ponto;\n",
        "Infantis: 6 pontos.\n",
        "Rodrigo, um estudante dessa escola, leu um livro de cada categoria e, agora, quer saber quantos pontos acumulou com sua leitura. Para isso, você deve criar um programa em Python que tenha as seguintes características:\n",
        "\n",
        "Consiga armazenar os pontos de cada categoria de livro;\n",
        "Calcule os pontos de Rodrigo;\n",
        "Apresente na tela os pontos de Rodrigo."
      ],
      "metadata": {
        "id": "4ggqBcfQLvMD"
      }
    },
    {
      "cell_type": "markdown",
      "source": [],
      "metadata": {
        "id": "oQaS57ETK243"
      }
    },
    {
      "cell_type": "code",
      "source": [
        "livro_ficcao = 10\n",
        "livro_nficcao = 8\n",
        "livro_infantil = 6\n",
        "\n",
        "pontos_rodrigo = livro_ficcao + livro_nficcao + livro_infantil\n",
        "\n",
        "print(f\"Os pontos totais do rodrigo são: {pontos_rodrigo}\")"
      ],
      "metadata": {
        "colab": {
          "base_uri": "https://localhost:8080/"
        },
        "id": "em-rLN8kL54b",
        "outputId": "a0bf6f46-4f2d-4501-f845-244b35c8dfa2"
      },
      "execution_count": null,
      "outputs": [
        {
          "output_type": "stream",
          "name": "stdout",
          "text": [
            "Os pontos totais do rodrigo são: 24\n"
          ]
        }
      ]
    },
    {
      "cell_type": "markdown",
      "source": [
        "DESAFIO"
      ],
      "metadata": {
        "id": "wRD3dVmtpL9J"
      }
    },
    {
      "cell_type": "markdown",
      "source": [
        "Ana também participou da campanha e leu dois livros de ficção e cinco livros infantis. Como podemos calcular o total de pontos de Ana? É possível calcular o total de pontos acumulados por Rodrigo e Ana juntos? Este é um desafio interessante, que pode exigir o uso da soma mais de uma vez, ou até mesmo multiplicação."
      ],
      "metadata": {
        "id": "AoQJLSgrpRVZ"
      }
    },
    {
      "cell_type": "code",
      "source": [
        "livro_ficcao = 2\n",
        "livro_infantil = 5\n",
        "\n",
        "pontos_ana = livro_ficcao + livro_infantil\n",
        "\n",
        "print(f\"Os pontos totais de ana são: {pontos_ana}\")"
      ],
      "metadata": {
        "colab": {
          "base_uri": "https://localhost:8080/"
        },
        "id": "ZXVnuL5TpUtp",
        "outputId": "95d4e61a-8996-4926-a209-43860f4ef5c5"
      },
      "execution_count": null,
      "outputs": [
        {
          "output_type": "stream",
          "name": "stdout",
          "text": [
            "Os pontos totais de ana são: 7\n"
          ]
        }
      ]
    },
    {
      "cell_type": "code",
      "source": [
        "livro_ficcao = 12\n",
        "livro_nficcao = 8\n",
        "livro_infantil = 11\n",
        "\n",
        "pontos_ana_rodrigo = livro_ficcao + livro_nficcao + livro_infantil\n",
        "\n",
        "print(f\"Os pontos totais de ana e rodrigo são: {pontos_ana_rodrigo}\")"
      ],
      "metadata": {
        "colab": {
          "base_uri": "https://localhost:8080/"
        },
        "id": "sXtQIZoTqX1n",
        "outputId": "a39051e5-c172-41dd-9418-f930a6811bdd"
      },
      "execution_count": null,
      "outputs": [
        {
          "output_type": "stream",
          "name": "stdout",
          "text": [
            "Os pontos totais de ana e rodrigo são: 31\n"
          ]
        }
      ]
    },
    {
      "cell_type": "markdown",
      "source": [
        "## aula 3\n"
      ],
      "metadata": {
        "id": "a_ur1ebRnrtJ"
      }
    },
    {
      "cell_type": "code",
      "source": [],
      "metadata": {
        "id": "3vJ9b5m6nxCW"
      },
      "execution_count": null,
      "outputs": []
    },
    {
      "cell_type": "markdown",
      "source": [
        "A turma do segundo ano encontrou um envelope cheio de figurinhas. Para garantir uma divisão justa, todos concordaram com a sugestão de João, o dono do envelope.\n",
        "\n",
        " Cada amigo, exceto João, deve receber exatamente o mesmo número de figurinhas. João deve receber o dobro da quantidade que cada amigo recebe. Pode ser que o fato de João ser o dono do envelope tenha ajudado a convencer os amigos, mas também contribui o fato de que, do jeito proposto, a divisão era exata, sem sobrar nem faltar figurinhas."
      ],
      "metadata": {
        "id": "UMP_OU8ZoUii"
      }
    },
    {
      "cell_type": "markdown",
      "source": [
        "Problema:"
      ],
      "metadata": {
        "id": "g58uqOmyobO6"
      }
    },
    {
      "cell_type": "markdown",
      "source": [
        "crie um programa que determine a quantidade de figurinhas que joão recebeu, dado o número total de figurinhas no envelope e o número de amigos de joão"
      ],
      "metadata": {
        "id": "2CRoStfKox_f"
      }
    },
    {
      "cell_type": "markdown",
      "source": [
        "Entrada:"
      ],
      "metadata": {
        "id": "svapedI6pNDT"
      }
    },
    {
      "cell_type": "markdown",
      "source": [
        "A primeira linha contém um número inteiro, que representa o total de figurinhas no envelope.\n",
        "\n",
        " A segunda linha contém um número inteiro, que representa a quantidade de amigos de João, excluindo o próprio João."
      ],
      "metadata": {
        "id": "Iuunmkq-pQo0"
      }
    },
    {
      "cell_type": "markdown",
      "source": [],
      "metadata": {
        "id": "ZpCPgvilpWns"
      }
    },
    {
      "cell_type": "code",
      "source": [
        "total_figurinhas = int(input(\"digite o total de figurinhas: \"))\n",
        "numero_amigos = int(input(\"digite o numero de amigos: \" ))\n",
        "\n",
        "figurinhas_amigos = total_figurinhas // (numero_amigos + 2)\n",
        "figurinhas_joao = 2 * figurinhas_amigos\n",
        "\n",
        "print(f\"joao recebeu {figurinhas_joao} figurinhas. \")"
      ],
      "metadata": {
        "colab": {
          "base_uri": "https://localhost:8080/"
        },
        "id": "UsnqwOOWpsRi",
        "outputId": "0870dc8a-dd84-45f7-b8a4-747d39c35eed"
      },
      "execution_count": null,
      "outputs": [
        {
          "output_type": "stream",
          "name": "stdout",
          "text": [
            "digite o total de figurinhas: 100\n",
            "digite o numero de amigos: 5\n",
            "joao recebeu 28 figurinhas. \n"
          ]
        }
      ]
    },
    {
      "cell_type": "markdown",
      "source": [
        "DESAFIO"
      ],
      "metadata": {
        "id": "Q7R2JlbKrF0W"
      }
    },
    {
      "cell_type": "markdown",
      "source": [
        "Após dividir as figurinhas no recreio, João percebeu que ainda havia algumas figurinhas extras em sua mochila. Ele decidiu que essas figurinhas extras também devem ser distribuídas de forma justa entre ele e seus amigos, mantendo a mesma regra. Cada amigo receberá uma quantidade igual de figurinhas, e João receberá o dobro da quantidade que cada amigo recebe. Ajude João a distribuir todas as figurinhas, incluindo as extras, de maneira justa, sem deixar nenhuma figurinha sobrando."
      ],
      "metadata": {
        "id": "MmTCJaJarHS2"
      }
    },
    {
      "cell_type": "code",
      "source": [
        "def distribuir_figurinhas(total_figurinhas, num_amigos):\n",
        "    partes_total = num_amigos + 2\n",
        "\n",
        "    if total_figurinhas % partes_total == 0:\n",
        "        figurinhas_por_amigo = total_figurinhas // partes_total\n",
        "        figurinhas_joao = 2 * figurinhas_por_amigo\n",
        "\n",
        "        print(f\"Cada amigo receberá {figurinhas_por_amigo} figurinhas.\")\n",
        "        print(f\"João receberá {figurinhas_joao} figurinhas.\")\n",
        "    else:\n",
        "        print(\"Não é possível distribuir as figurinhas de forma justa sem deixar sobrar.\")\n",
        "\n",
        "total_figurinhas = int(input(\"Digite o total de figurinhas (incluindo as extras): \"))\n",
        "num_amigos = int(input(\"Digite o número de amigos de João: \"))\n",
        "\n",
        "distribuir_figurinhas(total_figurinhas, num_amigos)\n"
      ],
      "metadata": {
        "colab": {
          "base_uri": "https://localhost:8080/"
        },
        "id": "do-gA1vSrq30",
        "outputId": "ef377423-c6e7-4a78-968c-fd453177b7f4"
      },
      "execution_count": null,
      "outputs": [
        {
          "output_type": "stream",
          "name": "stdout",
          "text": [
            "Digite o total de figurinhas (incluindo as extras): 30\n",
            "Digite o número de amigos de João: 4\n",
            "Cada amigo receberá 5 figurinhas.\n",
            "João receberá 10 figurinhas.\n"
          ]
        }
      ]
    },
    {
      "cell_type": "markdown",
      "source": [],
      "metadata": {
        "id": "woaWx_MZrsP0"
      }
    },
    {
      "cell_type": "markdown",
      "source": [
        "## aula 4"
      ],
      "metadata": {
        "id": "6GZ62jOcmzWE"
      }
    },
    {
      "cell_type": "code",
      "source": [],
      "metadata": {
        "id": "ABd2YZIVm1yE"
      },
      "execution_count": null,
      "outputs": []
    },
    {
      "cell_type": "markdown",
      "source": [
        "A turma de um colégio está organizando uma excursão para a serra e, para chegar ao pico da montanha, todos os alunos e monitores devem usar um bondinho. No entanto, a cabine do bondinho tem uma capacidade máxima de 50 pessoas por viagem. Precisamos criar um programa que verifique se todos os alunos e monitores podem ser transportados em apenas uma viagem."
      ],
      "metadata": {
        "id": "nXwCGGs4neXU"
      }
    },
    {
      "cell_type": "markdown",
      "source": [
        "Entrada\n"
      ],
      "metadata": {
        "id": "k4_EEGgsnk7b"
      }
    },
    {
      "cell_type": "markdown",
      "source": [
        ". Um número inteiro numero_alunos, representando a quantidade de alunos na excursão\n",
        "\n",
        ". Um número inteiro numero_monitores, representando a quantidade de alunos na excursão"
      ],
      "metadata": {
        "id": "1Y7tlR4Nn26a"
      }
    },
    {
      "cell_type": "code",
      "source": [
        "numero_de_alunos = int(input(\"Digite a quantidade de alunos: \"))\n",
        "numero_de_monitores = int(input(\"Digite a quantidade de monitores: \"))\n",
        "resposta_positiva = \"sim, pode ir\"\n",
        "resposta_negativa = \"não pode ir\"\n",
        "\n",
        "if numero_de_alunos + numero_de_monitores <= 50:\n",
        "    print(resposta_positiva)\n",
        "else:\n",
        "    print(resposta_negativa)"
      ],
      "metadata": {
        "colab": {
          "base_uri": "https://localhost:8080/"
        },
        "id": "UdGgBnrZskYS",
        "outputId": "628ff23c-e6f6-448f-b20f-54c02debea2d"
      },
      "execution_count": null,
      "outputs": [
        {
          "output_type": "stream",
          "name": "stdout",
          "text": [
            "Digite a quantidade de alunos: 10\n",
            "Digite a quantidade de monitores: 10\n",
            "sim, pode ir\n"
          ]
        }
      ]
    },
    {
      "cell_type": "markdown",
      "source": [
        "DESAFIO"
      ],
      "metadata": {
        "id": "r9Zl5CiwuDeu"
      }
    },
    {
      "cell_type": "markdown",
      "source": [
        "Imagine que, infelizmente, o bondinho que carrega 50 pessoas está em manutenção. Agora, todos precisarão usar um bondinho menos sofisticado, que só pode levar 30 pessoas. Além disso, oito professores do colégio também participarão da excursão. Como garantimos que o número total de pessoas no bondinho, incluindo alunos, monitores e professores, não ultrapasse a capacidade máxima de 30 pessoas?\n",
        "\n",
        "O desafio é escrever um programa que verifique se é possível levar todos em apenas uma viagem."
      ],
      "metadata": {
        "id": "11A7B9eruE9e"
      }
    },
    {
      "cell_type": "code",
      "source": [
        "def verificar_viagem(alunos, monitores):\n",
        "    # Número fixo de professores\n",
        "    professores = 8\n",
        "\n",
        "    # Calcular o total de pessoas\n",
        "    total_pessoas = alunos + monitores + professores\n",
        "\n",
        "    # Verificar se o total de pessoas não ultrapassa a capacidade do bondinho\n",
        "    if total_pessoas <= 30:\n",
        "        return \"É possível levar todos no bondinho.\"\n",
        "    else:\n",
        "        return \"Não é possível levar todos no bondinho, ultrapassa a capacidade.\"\n",
        "\n",
        "# Exemplo de uso:\n",
        "alunos = int(input(\"Digite o número de alunos: \"))\n",
        "monitores = int(input(\"Digite o número de monitores: \"))\n",
        "\n",
        "resultado = verificar_viagem(alunos, monitores)\n",
        "print(resultado)\n"
      ],
      "metadata": {
        "colab": {
          "base_uri": "https://localhost:8080/"
        },
        "id": "apC9vqqFNpcE",
        "outputId": "d9cf8e74-b212-4b2f-e253-64ffe213d688"
      },
      "execution_count": 1,
      "outputs": [
        {
          "output_type": "stream",
          "name": "stdout",
          "text": [
            "Digite o número de alunos: 15\n",
            "Digite o número de monitores: 5\n",
            "É possível levar todos no bondinho.\n"
          ]
        }
      ]
    },
    {
      "cell_type": "markdown",
      "source": [],
      "metadata": {
        "id": "j8PfU1D-oqdC"
      }
    },
    {
      "cell_type": "markdown",
      "source": [
        "## aula 5\n"
      ],
      "metadata": {
        "id": "y9Db_iBdN0XT"
      }
    },
    {
      "cell_type": "markdown",
      "source": [],
      "metadata": {
        "id": "bX8nJ72GN4Nr"
      }
    }
  ]
}